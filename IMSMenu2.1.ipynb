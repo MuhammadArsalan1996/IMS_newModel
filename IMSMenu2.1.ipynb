{
 "cells": [
  {
   "cell_type": "code",
   "execution_count": 1,
   "metadata": {},
   "outputs": [],
   "source": [
    "import pandas as pd\n",
    "import numpy as np\n",
    "from sklearn import preprocessing\n",
    "from sklearn.impute import SimpleImputer\n",
    "from sklearn.preprocessing import LabelEncoder"
   ]
  },
  {
   "cell_type": "code",
   "execution_count": 2,
   "metadata": {},
   "outputs": [
    {
     "data": {
      "text/plain": [
       "array([[1, 1, 1, 1, 1, 1, 1, 1, 1, 'Mixvegetables', 'Smokedsalmon',\n",
       "        'BoiledGreenVegetables', 'SteelcutOats', 'PumpkinBhaji'],\n",
       "       [1, 1, 1, 1, 1, 1, 1, 1, 0, 'SteelcutOats', 'Mixvegetables',\n",
       "        'AlooGajarMatar', 'PalakChicken', 'Smokedsalmon'],\n",
       "       [1, 1, 1, 1, 1, 1, 1, 0, 1, 'PumpkinBhaji', 'SteelcutOats',\n",
       "        'Smokedsalmon', 'Mixvegetables', 'JeeraAloo'],\n",
       "       [1, 1, 1, 1, 1, 1, 1, 0, 0, 'Mixvegetables', 'PumpkinBhaji',\n",
       "        'SteelcutOats', 'Smokedsalmon', 'ChickencornSoup'],\n",
       "       [1, 1, 1, 1, 1, 1, 0, 1, 1, 'Smokedsalmon', 'Mixvegetables',\n",
       "        'SteelcutOats', 'JeeraAloo', 'AlooGobiMatar']], dtype=object)"
      ]
     },
     "execution_count": 2,
     "metadata": {},
     "output_type": "execute_result"
    }
   ],
   "source": [
    "df = pd.read_csv(\"IMSMenu2.1.csv\" )\n",
    "imputer = SimpleImputer(missing_values=np.NaN, strategy='most_frequent')\n",
    "\n",
    "\n",
    "\n",
    "labelencoder = LabelEncoder()\n",
    "\n",
    "imputer.fit(df[:])\n",
    "X = imputer.transform(df[:])\n",
    "\n",
    "data = df.iloc[:,:].values\n",
    "\n",
    "# Conversion of all categorial column values to vector/numerical\n",
    "for i in range(0,9):\n",
    "        data[:,i] = labelencoder.fit_transform(data[:,i])\n",
    "data[:5]"
   ]
  },
  {
   "cell_type": "code",
   "execution_count": 3,
   "metadata": {},
   "outputs": [
    {
     "data": {
      "text/html": [
       "<div>\n",
       "<style scoped>\n",
       "    .dataframe tbody tr th:only-of-type {\n",
       "        vertical-align: middle;\n",
       "    }\n",
       "\n",
       "    .dataframe tbody tr th {\n",
       "        vertical-align: top;\n",
       "    }\n",
       "\n",
       "    .dataframe thead th {\n",
       "        text-align: right;\n",
       "    }\n",
       "</style>\n",
       "<table border=\"1\" class=\"dataframe\">\n",
       "  <thead>\n",
       "    <tr style=\"text-align: right;\">\n",
       "      <th></th>\n",
       "      <th>DiabetesTypeOne</th>\n",
       "      <th>DiabetesTypeTwo</th>\n",
       "      <th>liverDisease</th>\n",
       "      <th>heartDisease</th>\n",
       "      <th>kidneyDisease</th>\n",
       "      <th>Flu</th>\n",
       "      <th>Fever</th>\n",
       "      <th>LowBP</th>\n",
       "      <th>HighBP</th>\n",
       "      <th>Recommended</th>\n",
       "      <th>Recommended2</th>\n",
       "      <th>Recommended3</th>\n",
       "      <th>Recommended4</th>\n",
       "      <th>Recommended5</th>\n",
       "    </tr>\n",
       "  </thead>\n",
       "  <tbody>\n",
       "    <tr>\n",
       "      <th>0</th>\n",
       "      <td>1</td>\n",
       "      <td>1</td>\n",
       "      <td>1</td>\n",
       "      <td>1</td>\n",
       "      <td>1</td>\n",
       "      <td>1</td>\n",
       "      <td>1</td>\n",
       "      <td>1</td>\n",
       "      <td>1</td>\n",
       "      <td>Mixvegetables</td>\n",
       "      <td>Smokedsalmon</td>\n",
       "      <td>BoiledGreenVegetables</td>\n",
       "      <td>SteelcutOats</td>\n",
       "      <td>PumpkinBhaji</td>\n",
       "    </tr>\n",
       "    <tr>\n",
       "      <th>1</th>\n",
       "      <td>1</td>\n",
       "      <td>1</td>\n",
       "      <td>1</td>\n",
       "      <td>1</td>\n",
       "      <td>1</td>\n",
       "      <td>1</td>\n",
       "      <td>1</td>\n",
       "      <td>1</td>\n",
       "      <td>0</td>\n",
       "      <td>SteelcutOats</td>\n",
       "      <td>Mixvegetables</td>\n",
       "      <td>AlooGajarMatar</td>\n",
       "      <td>PalakChicken</td>\n",
       "      <td>Smokedsalmon</td>\n",
       "    </tr>\n",
       "    <tr>\n",
       "      <th>2</th>\n",
       "      <td>1</td>\n",
       "      <td>1</td>\n",
       "      <td>1</td>\n",
       "      <td>1</td>\n",
       "      <td>1</td>\n",
       "      <td>1</td>\n",
       "      <td>1</td>\n",
       "      <td>0</td>\n",
       "      <td>1</td>\n",
       "      <td>PumpkinBhaji</td>\n",
       "      <td>SteelcutOats</td>\n",
       "      <td>Smokedsalmon</td>\n",
       "      <td>Mixvegetables</td>\n",
       "      <td>JeeraAloo</td>\n",
       "    </tr>\n",
       "    <tr>\n",
       "      <th>3</th>\n",
       "      <td>1</td>\n",
       "      <td>1</td>\n",
       "      <td>1</td>\n",
       "      <td>1</td>\n",
       "      <td>1</td>\n",
       "      <td>1</td>\n",
       "      <td>1</td>\n",
       "      <td>0</td>\n",
       "      <td>0</td>\n",
       "      <td>Mixvegetables</td>\n",
       "      <td>PumpkinBhaji</td>\n",
       "      <td>SteelcutOats</td>\n",
       "      <td>Smokedsalmon</td>\n",
       "      <td>ChickencornSoup</td>\n",
       "    </tr>\n",
       "    <tr>\n",
       "      <th>4</th>\n",
       "      <td>1</td>\n",
       "      <td>1</td>\n",
       "      <td>1</td>\n",
       "      <td>1</td>\n",
       "      <td>1</td>\n",
       "      <td>1</td>\n",
       "      <td>0</td>\n",
       "      <td>1</td>\n",
       "      <td>1</td>\n",
       "      <td>Smokedsalmon</td>\n",
       "      <td>Mixvegetables</td>\n",
       "      <td>SteelcutOats</td>\n",
       "      <td>JeeraAloo</td>\n",
       "      <td>AlooGobiMatar</td>\n",
       "    </tr>\n",
       "  </tbody>\n",
       "</table>\n",
       "</div>"
      ],
      "text/plain": [
       "  DiabetesTypeOne DiabetesTypeTwo liverDisease heartDisease kidneyDisease Flu  \\\n",
       "0               1               1            1            1             1   1   \n",
       "1               1               1            1            1             1   1   \n",
       "2               1               1            1            1             1   1   \n",
       "3               1               1            1            1             1   1   \n",
       "4               1               1            1            1             1   1   \n",
       "\n",
       "  Fever LowBP HighBP    Recommended   Recommended2           Recommended3  \\\n",
       "0     1     1      1  Mixvegetables   Smokedsalmon  BoiledGreenVegetables   \n",
       "1     1     1      0   SteelcutOats  Mixvegetables         AlooGajarMatar   \n",
       "2     1     0      1   PumpkinBhaji   SteelcutOats           Smokedsalmon   \n",
       "3     1     0      0  Mixvegetables   PumpkinBhaji           SteelcutOats   \n",
       "4     0     1      1   Smokedsalmon  Mixvegetables           SteelcutOats   \n",
       "\n",
       "    Recommended4     Recommended5  \n",
       "0   SteelcutOats     PumpkinBhaji  \n",
       "1   PalakChicken     Smokedsalmon  \n",
       "2  Mixvegetables        JeeraAloo  \n",
       "3   Smokedsalmon  ChickencornSoup  \n",
       "4      JeeraAloo    AlooGobiMatar  "
      ]
     },
     "execution_count": 3,
     "metadata": {},
     "output_type": "execute_result"
    }
   ],
   "source": [
    "df.head()"
   ]
  },
  {
   "cell_type": "code",
   "execution_count": 4,
   "metadata": {},
   "outputs": [
    {
     "data": {
      "text/plain": [
       "(512, 14)"
      ]
     },
     "execution_count": 4,
     "metadata": {},
     "output_type": "execute_result"
    }
   ],
   "source": [
    "df.shape"
   ]
  },
  {
   "cell_type": "code",
   "execution_count": 5,
   "metadata": {},
   "outputs": [
    {
     "data": {
      "text/plain": [
       "Index(['DiabetesTypeOne', 'DiabetesTypeTwo', 'liverDisease', 'heartDisease',\n",
       "       'kidneyDisease', 'Flu', 'Fever', 'LowBP', 'HighBP', 'Recommended',\n",
       "       'Recommended2', 'Recommended3', 'Recommended4', 'Recommended5'],\n",
       "      dtype='object')"
      ]
     },
     "execution_count": 5,
     "metadata": {},
     "output_type": "execute_result"
    }
   ],
   "source": [
    "df.columns"
   ]
  },
  {
   "cell_type": "code",
   "execution_count": 7,
   "metadata": {},
   "outputs": [
    {
     "data": {
      "text/plain": [
       "(512, 5)"
      ]
     },
     "execution_count": 7,
     "metadata": {},
     "output_type": "execute_result"
    }
   ],
   "source": [
    "feature_df=df[['DiabetesTypeOne', 'DiabetesTypeTwo', 'liverDisease', 'heartDisease',\n",
    "       'kidneyDisease', 'Flu', 'Fever', 'LowBP', 'HighBP']]\n",
    "feature_dff=df[['Recommended',\n",
    "       'Recommended2', 'Recommended3', 'Recommended4', 'Recommended5']]\n",
    "X=np.asarray((feature_df))\n",
    "y=np.asarray(feature_dff)\n",
    "X[0:5]\n",
    "X.shape\n",
    "y.shape"
   ]
  },
  {
   "cell_type": "code",
   "execution_count": 8,
   "metadata": {},
   "outputs": [
    {
     "name": "stdout",
     "output_type": "stream",
     "text": [
      "(460, 9) (460, 5) (52, 9) (52, 5)\n"
     ]
    }
   ],
   "source": [
    "from sklearn.model_selection import train_test_split\n",
    "X_train,X_test,y_train,y_test = train_test_split(X,y,test_size=0.1)\n",
    "\n",
    "print(X_train.shape,\n",
    "y_train.shape,\n",
    "X_test.shape,\n",
    "y_test.shape,)"
   ]
  },
  {
   "cell_type": "code",
   "execution_count": 9,
   "metadata": {},
   "outputs": [
    {
     "name": "stdout",
     "output_type": "stream",
     "text": [
      "[['SteelcutOats' 'Mixvegetables' 'PepperChickenFry' 'PalakChicken'\n",
      "  'Smokedsalmon']\n",
      " ['Smokedsalmon' 'BoiledGreenVegetables' 'EasyBoiledRice'\n",
      "  'PepperChickenFry' 'PumpkinBhaji']\n",
      " ['PumpkinBhaji' 'SteelcutOats' 'Smokedsalmon' 'BoiledGreenVegetables'\n",
      "  'EasyBoiledRice']\n",
      " ...\n",
      " ['SteelcutOats' 'EASYHONEYGARLICSALMON' 'PumpkinBhaji' 'CabbageChanaDal'\n",
      "  'Mixvegetables']\n",
      " ['Mixvegetables' 'Smokedsalmon' 'PalakChicken' 'SteelcutOats'\n",
      "  'CabbageChanaDal']\n",
      " ['AlooGobiMatar' 'PumpkinBhaji' 'Smokedsalmon' 'SteelcutOats'\n",
      "  'CabbageChanaDal']]\n"
     ]
    },
    {
     "data": {
      "text/plain": [
       "0.9978462969918903"
      ]
     },
     "execution_count": 9,
     "metadata": {},
     "output_type": "execute_result"
    }
   ],
   "source": [
    "from sklearn.multioutput import MultiOutputClassifier\n",
    "from sklearn.ensemble import RandomForestClassifier\n",
    "\n",
    "forest = RandomForestClassifier(random_state=1)\n",
    "classifier = MultiOutputClassifier(forest, n_jobs=-1)\n",
    "classifier.fit(X_train,y_train)\n",
    "y_predict=classifier.predict(X_train)\n",
    "print(y_predict)\n",
    "from sklearn.preprocessing import MultiLabelBinarizer\n",
    "from sklearn.metrics import f1_score\n",
    "\n",
    "\n",
    "\n",
    "m = MultiLabelBinarizer().fit(y_train)\n",
    "\n",
    "f1_score(m.transform(y_train),\n",
    "         m.transform(y_predict),\n",
    "         average='macro')"
   ]
  },
  {
   "cell_type": "code",
   "execution_count": 12,
   "metadata": {},
   "outputs": [],
   "source": [
    "import pickle\n",
    "pickle.dump(df,open('ims.pkl','wb'))"
   ]
  },
  {
   "cell_type": "code",
   "execution_count": 14,
   "metadata": {},
   "outputs": [
   
  {
   "cell_type": "code",
   "execution_count": null,
   "metadata": {},
   "outputs": [],
   "source": []
  }
 ],
 "metadata": {
  "kernelspec": {
   "display_name": "Python 3",
   "language": "python",
   "name": "python3"
  },
  "language_info": {
   "codemirror_mode": {
    "name": "ipython",
    "version": 3
   },
   "file_extension": ".py",
   "mimetype": "text/x-python",
   "name": "python",
   "nbconvert_exporter": "python",
   "pygments_lexer": "ipython3",
   "version": "3.7.1"
  }
 },
 "nbformat": 4,
 "nbformat_minor": 2
}
